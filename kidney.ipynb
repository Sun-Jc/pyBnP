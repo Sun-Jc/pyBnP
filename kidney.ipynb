{
 "cells": [
  {
   "cell_type": "markdown",
   "metadata": {},
   "source": [
    "### failure-aware KE\n",
    "Inspired by https://github.com/JohnDickerson/KidneyExchange.git\n",
    "\n",
    "- Implemented:\n",
    "    -  Model with Gurobi MIP Solver\n",
    "\n",
    "- Ready to Work:\n",
    "    - Branch-and-Price\n",
    "    \n",
    "- Not (going to be) Implemented:\n",
    "    - InfiniteTailUtility "
   ]
  },
  {
   "cell_type": "markdown",
   "metadata": {},
   "source": [
    "#### imports"
   ]
  },
  {
   "cell_type": "code",
   "execution_count": 673,
   "metadata": {},
   "outputs": [],
   "source": [
    "import json\n",
    "import random\n",
    "import networkx as nx\n",
    "from typing import List, Tuple, Dict\n",
    "from gurobi import *\n",
    "import copy"
   ]
  },
  {
   "cell_type": "markdown",
   "metadata": {},
   "source": [
    "#### utils"
   ]
  },
  {
   "cell_type": "code",
   "execution_count": 674,
   "metadata": {},
   "outputs": [],
   "source": [
    "def _printLP(m):\n",
    "    m.write('tmp.lp')\n",
    "    f = open('tmp.lp', 'r')\n",
    "    for l in f.readlines():\n",
    "        print(l)\n",
    "    print('====================')"
   ]
  },
  {
   "cell_type": "markdown",
   "metadata": {},
   "source": [
    "#### Matching Pool Class"
   ]
  },
  {
   "cell_type": "code",
   "execution_count": 703,
   "metadata": {},
   "outputs": [],
   "source": [
    "class Graph:\n",
    "    def __init__(self, usingFailProb=True):\n",
    "        self.g = nx.DiGraph()\n",
    "        self.pairs = set()\n",
    "        self.altruists = set()\n",
    "        self.usingFailProb = usingFailProb\n",
    "        \n",
    "        \n",
    "    def addV(self, vid:int, isPair=True):\n",
    "        if isPair:\n",
    "            self.pairs.add(vid)\n",
    "            self.g.add_node(vid, Type='Pair')\n",
    "        else:\n",
    "            self.altruists.add(vid)\n",
    "            self.g.add_node(vid, Type='Altruist')\n",
    "            \n",
    "            \n",
    "    def addE(self, source:int, target:int, prob=1.0):\n",
    "        self.g.add_edge(source, target, prob=prob)\n",
    "    \n",
    "    \n",
    "    def saveAsFile(self, filename: str):\n",
    "        pairs = list(self.pairs)\n",
    "        altruists = list(self.altruists)\n",
    "        \n",
    "        edges = [[s,t,p] for s,t,p in self.g.edges.data('prob')]\n",
    "        \n",
    "        graphJson = json.dumps({\"pairs\": pairs, \"altruists\":altruists, \"edges\": edges})\n",
    "        with open(filename, 'w') as f:\n",
    "            f.write(graphJson)  \n",
    "            \n",
    "            \n",
    "    def weighAnEdge(self, edge:Tuple[int, int]) -> float:\n",
    "        return 1.0\n",
    "    \n",
    "    \n",
    "    def weighDummyEdge(self, edge:Tuple[int, int]) -> float:\n",
    "        return 1.0\n",
    "    \n",
    "    \n",
    "    def failProbOfEdge(self, edge:Tuple[int, int]) -> float:\n",
    "        return self.g.get_edge_data(edge[0], edge[1])['prob']\n",
    "\n",
    "\n",
    "    def weighACycle(self, cycle:List[int]) -> float:\n",
    "        startE = (cycle[0],cycle[1])\n",
    "        pathWeight = 0\n",
    "        pathSuccProb = 1\n",
    "        pathWeight *= pathSuccProb\n",
    "        for source, target in zip(cycle, cycle[1:]+[cycle[0]]):\n",
    "            E = (source, target)\n",
    "            pathWeight += self.weighAnEdge(E)\n",
    "            pathSuccProb *= (1.0 - self.failProbOfEdge(E))\n",
    "\n",
    "        if self.usingFailProb:\n",
    "            return pathWeight * pathSuccProb\n",
    "        else:\n",
    "            return pathWeight\n",
    "    \n",
    "\n",
    "    def weighAChain(self, chain:List[int]) -> float:\n",
    "        discountedPathWeight = 0.0\n",
    "        rawPathWeight = 0\n",
    "        pathSuccProb = 1\n",
    "        \n",
    "        for source, target in zip(chain[:-1], chain[1:]):\n",
    "            E = (source, target)\n",
    "            discountedPathWeight += rawPathWeight * pathSuccProb * self.failProbOfEdge(E)\n",
    "            rawPathWeight += self.weighAnEdge(E)\n",
    "            pathSuccProb *= (1 - self.failProbOfEdge(E))\n",
    "            \n",
    "            \n",
    "        # DUMMY EDGE WEIGHT\n",
    "        dummyEdgeWeight = self.weighDummyEdge((chain[-1], chain[0]))\n",
    "        \n",
    "        if self.usingFailProb:\n",
    "#             print(discountedPathWeight, rawPathWeight , pathSuccProb)\n",
    "            return discountedPathWeight + (rawPathWeight * pathSuccProb) + dummyEdgeWeight \n",
    "        else:\n",
    "            return rawPathWeight + dummyEdgeWeight\n",
    "            \n",
    "    \n",
    "    \n"
   ]
  },
  {
   "cell_type": "markdown",
   "metadata": {},
   "source": [
    "#### Helper of Pool Class"
   ]
  },
  {
   "cell_type": "code",
   "execution_count": 715,
   "metadata": {},
   "outputs": [],
   "source": [
    "def buildGraphFromRaw(pairs:List[int], altruists:List[int], \n",
    "                   edges_with_prob:List[Tuple[int, int, float]]) -> Graph:\n",
    "    self = Graph()\n",
    "    for v in pairs:\n",
    "        self.addV(v, isPair=True)\n",
    "    for v in altruists:\n",
    "        self.addV(v, isPair=False)\n",
    "    for s,t,p in edges_with_prob:\n",
    "        self.addE(s, t, p)\n",
    "    return self\n",
    "\n",
    "\n",
    "def noDummy2withDummy(graph:Graph) -> Graph:\n",
    "    newGraph = copy.deepcopy(graph)\n",
    "    for nid in graph.pairs:\n",
    "        for al in graph.altruists:\n",
    "            newGraph.addE(nid, al, 1.0)\n",
    "    return newGraph\n",
    "\n",
    "\n",
    "def generateRandomGraph(N:int, M:int, with_dummy=True) -> Graph:\n",
    "    pairs = [0, 1, 2, 3]\n",
    "    altruists = [4, 5]\n",
    "#     altruists = []\n",
    "    \n",
    "    prob = 0.7\n",
    "\n",
    "    edges = set([(0, 1), (1, 2), (1, 3), (2, 1), (2, 0), (3, 2), (4, 3)])\n",
    "\n",
    "    for nid in range(len(pairs)+len(altruists), N):\n",
    "        pairs.append(nid)\n",
    "\n",
    "    oldM = len(edges)\n",
    "    for m in range(M - oldM):\n",
    "        s = random.randint(0, N-1)\n",
    "        t = random.randint(0, N-1)\n",
    "        if t not in altruists:\n",
    "            edges.add( (s, t) )\n",
    "\n",
    "    edges_with_prob = [(s, t, prob) for s,t in edges]\n",
    "    \n",
    "    graph = buildGraphFromRaw(pairs, altruists, edges_with_prob)\n",
    "    if with_dummy:\n",
    "        return noDummy2withDummy(graph)\n",
    "    else:\n",
    "        return graph\n",
    "\n",
    "    \n",
    "    \n",
    "def buildGraphFromFile(filename: str) -> Graph:\n",
    "    self = Graph()\n",
    "    with open(filename) as f:\n",
    "        graph = json.load(f)\n",
    "        pairs = graph[\"pairs\"]\n",
    "        altruists = graph[\"altruists\"]\n",
    "        edges_with_prob = list(map(tuple, graph[\"edges\"]))\n",
    "        \n",
    "        return buildGraphFromRaw(pairs, altruists, edges_with_prob)\n"
   ]
  },
  {
   "cell_type": "markdown",
   "metadata": {},
   "source": [
    "#### Cycle/Chain Generators"
   ]
  },
  {
   "cell_type": "code",
   "execution_count": 716,
   "metadata": {},
   "outputs": [],
   "source": [
    "\n",
    "def genCyclesOfANode(graph: Graph, node: int, length:int, only_source=False) -> Tuple[List[List[int]], List[float]]:\n",
    "    visited = set()\n",
    "    def genNext(cur: int, rest: int) -> List[List[int]]:\n",
    "        res = []\n",
    "        visited.add(cur)\n",
    "        if rest == 2:\n",
    "            if node in graph.g.adj[cur]:\n",
    "                res.append([cur])\n",
    "        else:        \n",
    "            for nxt in graph.g.adj[cur]:\n",
    "                if only_source and nxt < node or nxt in visited or nxt in graph.altruists:\n",
    "                    continue\n",
    "                for r in genNext(nxt, rest-1):\n",
    "                    r.append(cur)\n",
    "                    res.append(r)\n",
    "        visited.remove(cur)\n",
    "        return res\n",
    "    ans = [l[::-1] for l in genNext(node, length+1)]\n",
    "    return ans, [graph.weighACycle(x) for x in ans]\n",
    "\n",
    "\n",
    "def genChainsOfANode(graph: Graph, node: int, length: int) -> Tuple[List[List[int]], List[float]]:\n",
    "    visited = set()\n",
    "    def genNext(cur: int, rest:int) -> List[List[int]]:\n",
    "        res = []\n",
    "        visited.add(cur)\n",
    "        if rest == 1:\n",
    "            return [[cur]]\n",
    "        else:\n",
    "            for nxt in graph.g.adj[cur]:\n",
    "                if nxt in visited or nxt in graph.altruists:\n",
    "                    continue\n",
    "                for r in genNext(nxt, rest-1):\n",
    "                    r.append(cur)\n",
    "                    res.append(r)\n",
    "        visited.remove(cur)\n",
    "        return res\n",
    "    ans = [l[::-1] for l in genNext(node, length)]\n",
    "    return ans, [graph.weighAChain(x) for x in ans]\n",
    "                                            \n",
    "\n",
    "    \n",
    "def genAllCycles(graph: Graph, cycleCap: int) -> Tuple[List[List[int]], List[float]]:\n",
    "    res1 = []\n",
    "    res2 = []\n",
    "    for pair in graph.pairs:\n",
    "        for l in range(2, cycleCap+1):\n",
    "            r, w = genCyclesOfANode(graph, pair, l, True)\n",
    "            res1 += r\n",
    "            res2 += w\n",
    "    return res1, res2\n",
    "\n",
    "\n",
    "def genAllChains(graph: Graph, chainCap: int) -> Tuple[List[List[int]], List[float]]:\n",
    "    res1 = []\n",
    "    res2 = []\n",
    "    for altruist in graph.altruists:\n",
    "        for l in range(2, chainCap+2):\n",
    "            r, w = genChainsOfANode(graph, altruist, l)\n",
    "            res1 += r\n",
    "            res2 += w\n",
    "    return res1, res2\n",
    "        \n",
    "        \n",
    "def genAllCyclesAndChains(graph: Graph, cycleCap: int, chainCap: int) -> Tuple[List[List[int]], List[float]]:\n",
    "    res1, res2 = genAllCycles(graph, cycleCap)\n",
    "    r1, r2 = genAllChains(graph, chainCap) \n",
    "    res1 += r1\n",
    "    res2 += r2\n",
    "    return res1, res2\n",
    "\n",
    "\n",
    "\n"
   ]
  },
  {
   "cell_type": "markdown",
   "metadata": {},
   "source": [
    "#### Gurobi MIP Solver"
   ]
  },
  {
   "cell_type": "code",
   "execution_count": 717,
   "metadata": {},
   "outputs": [],
   "source": [
    "    \n",
    "def mipSolve(graph: Graph,  cycleCap: int, chainCap: int):\n",
    "    model = Model()\n",
    "    model.setObjective(0, sense=GRB.MAXIMIZE)\n",
    "#     c2var = {}\n",
    "    \n",
    "    varsOfRow = {}\n",
    "    for n in graph.pairs:\n",
    "        varsOfRow[n] = []\n",
    "    for n in graph.altruists:\n",
    "        varsOfRow[n] = []\n",
    "    \n",
    "    cycles, weights = genAllCycles(graph, cycleCap)\n",
    "    for cycle, weight in zip(cycles, weights):\n",
    "        vname = 'X_{}'.format(cycle)\n",
    "        var = model.addVar(name=vname, obj=weight, vtype=GRB.BINARY)\n",
    "#         c2var[tuple(cycle)] = var\n",
    "        for n in cycle:\n",
    "            varsOfRow[n].append(var)\n",
    "        \n",
    "    \n",
    "    chains, weights = genAllChains(graph, chainCap)\n",
    "    for chain, weight in zip(chains, weights):\n",
    "        vname = 'Y_{}'.format(chain)\n",
    "        var = model.addVar(name=vname, obj=weight, vtype=GRB.BINARY)\n",
    "#         c2var[tuple(chain)] = var\n",
    "        for n in chain:\n",
    "            varsOfRow[n].append(var)\n",
    "        \n",
    "    model.update()\n",
    "        \n",
    "    for r in varsOfRow:\n",
    "        model.addConstr( quicksum((var for var in varsOfRow[r])) <= 1, sense=GRB.LESS_EQUAL)\n",
    "    \n",
    " \n",
    "    model.optimize()\n",
    "    return model\n",
    "        "
   ]
  },
  {
   "cell_type": "markdown",
   "metadata": {},
   "source": [
    "### Free Tests"
   ]
  },
  {
   "cell_type": "code",
   "execution_count": 718,
   "metadata": {},
   "outputs": [],
   "source": [
    "N = 10\n",
    "M = 10\n",
    "fn = \"./KidneyExchange-master/test_graph.json\"\n",
    "\n",
    "graph = generateRandomGraph(N, M, with_dummy=False)"
   ]
  },
  {
   "cell_type": "code",
   "execution_count": 692,
   "metadata": {},
   "outputs": [],
   "source": [
    "graph = buildGraphFromRaw([0,1,2,3,5], [4, 6], \n",
    "                          [(0, 1, 1.0), (1, 2, 1.0), (1, 3, 1.0), (2, 3, 1.0), (2, 5, 1.0), (3, 2, 1.0), (4, 2, 1.0), (6, 3, 1.0)])\n"
   ]
  },
  {
   "cell_type": "code",
   "execution_count": 681,
   "metadata": {},
   "outputs": [],
   "source": [
    "graph = buildGraphFromRaw([0,1,2,3], [4], \n",
    "                          [(4, 1, 0.7), (1, 2, 0.7), (2, 3, 0.2), (2, 3, 1.0)])\n"
   ]
  },
  {
   "cell_type": "code",
   "execution_count": 719,
   "metadata": {},
   "outputs": [],
   "source": [
    "graph.saveAsFile(fn)"
   ]
  },
  {
   "cell_type": "code",
   "execution_count": 720,
   "metadata": {},
   "outputs": [],
   "source": [
    "graph = buildGraphFromFile(fn)"
   ]
  },
  {
   "cell_type": "code",
   "execution_count": 721,
   "metadata": {},
   "outputs": [],
   "source": [
    "noDummy2withDummy(graph).saveAsFile(fn)"
   ]
  },
  {
   "cell_type": "code",
   "execution_count": 722,
   "metadata": {},
   "outputs": [
    {
     "data": {
      "image/png": "[encoded data removed]",
      "text/plain": [
       "<Figure size 432x288 with 1 Axes>"
      ]
     },
     "metadata": {},
     "output_type": "display_data"
    }
   ],
   "source": [
    "nx.draw(graph.g, pos=nx.spring_layout(graph.g), with_label=True)\n",
    "# graph.g.add_edge(4, 9, prob=1.0)\n",
    "# graph.g.edges()"
   ]
  },
  {
   "cell_type": "code",
   "execution_count": null,
   "metadata": {},
   "outputs": [],
   "source": []
  },
  {
   "cell_type": "code",
   "execution_count": 723,
   "metadata": {},
   "outputs": [],
   "source": [
    "# graph = Graph()\n",
    "# graph.addV(0)\n",
    "# graph.addV(1)\n",
    "# graph.addV(2)\n",
    "# graph.addV(3)\n",
    "# graph.addV(4)\n",
    "# graph.addV(5)\n",
    "# edges = [(0,1), (1,2), (2,3), (2,0), (2,3), (3,0),\n",
    "#          (3,4), (4,5), (5,0), (0,3), (3, 2), (0,2), (3, 1)]\n",
    "# for s,t in edges:\n",
    "#     graph.addE(s,t)\n",
    "    \n",
    "# genCycle(graph, 3, 3, False)\n"
   ]
  },
  {
   "cell_type": "code",
   "execution_count": 724,
   "metadata": {
    "scrolled": false
   },
   "outputs": [
    {
     "name": "stdout",
     "output_type": "stream",
     "text": [
      "Gurobi Optimizer version 9.0.0 build v9.0.0rc2 (mac64)\n",
      "Optimize a model with 10 rows, 8 columns and 25 nonzeros\n",
      "Model fingerprint: 0x1e65e948\n",
      "Variable types: 0 continuous, 8 integer (8 binary)\n",
      "Coefficient statistics:\n",
      "  Matrix range     [1e+00, 1e+00]\n",
      "  Objective range  [3e-02, 1e+00]\n",
      "  Bounds range     [1e+00, 1e+00]\n",
      "  RHS range        [1e+00, 1e+00]\n",
      "Found heuristic solution: objective 1.3810000\n",
      "Presolve removed 10 rows and 8 columns\n",
      "Presolve time: 0.00s\n",
      "Presolve: All rows and columns removed\n",
      "\n",
      "Explored 0 nodes (0 simplex iterations) in 0.01 seconds\n",
      "Thread count was 1 (of 4 available processors)\n",
      "\n",
      "Solution count 2: 1.48 \n",
      "\n",
      "Optimal solution found (tolerance 1.00e-04)\n",
      "Best objective 1.480000000000e+00, best bound 1.480000000000e+00, gap 0.0000%\n",
      "Warning: variable name \"X_[0, 1, 2]\" has a space\n",
      "Warning: linear constraint 0 and linear constraint 1 have the same name \"<\"\n",
      "Warning: to let Gurobi read it back, use rlp format\n",
      "\\ LP format - for model browsing. Use MPS format to capture full model detail.\n",
      "\n",
      "Maximize\n",
      "\n",
      "  0.081 X_[0,_1,_2] + 0.0324 X_[0,_1,_3,_2] + 0.18 X_[1,_2]\n",
      "\n",
      "   + 0.081 X_[1,_3,_2] + 1.3 Y_[4,_3] + 1.39 Y_[4,_3,_2]\n",
      "\n",
      "   + 1.417 Y_[4,_3,_2,_1] + 1.417 Y_[4,_3,_2,_0]\n",
      "\n",
      "Subject To\n",
      "\n",
      " <: X_[0,_1,_2] + X_[0,_1,_3,_2] + Y_[4,_3,_2,_0] <= 1\n",
      "\n",
      " <: X_[0,_1,_2] + X_[0,_1,_3,_2] + X_[1,_2] + X_[1,_3,_2] + Y_[4,_3,_2,_1]\n",
      "\n",
      "   <= 1\n",
      "\n",
      " <: X_[0,_1,_2] + X_[0,_1,_3,_2] + X_[1,_2] + X_[1,_3,_2] + Y_[4,_3,_2]\n",
      "\n",
      "   + Y_[4,_3,_2,_1] + Y_[4,_3,_2,_0] <= 1\n",
      "\n",
      " <: X_[0,_1,_3,_2] + X_[1,_3,_2] + Y_[4,_3] + Y_[4,_3,_2] + Y_[4,_3,_2,_1]\n",
      "\n",
      "   + Y_[4,_3,_2,_0] <= 1\n",
      "\n",
      " <: <= 1\n",
      "\n",
      " <: <= 1\n",
      "\n",
      " <: <= 1\n",
      "\n",
      " <: <= 1\n",
      "\n",
      " <: Y_[4,_3] + Y_[4,_3,_2] + Y_[4,_3,_2,_1] + Y_[4,_3,_2,_0] <= 1\n",
      "\n",
      " <: <= 1\n",
      "\n",
      "Bounds\n",
      "\n",
      "Binaries\n",
      "\n",
      " X_[0,_1,_2] X_[0,_1,_3,_2] X_[1,_2] X_[1,_3,_2] Y_[4,_3] Y_[4,_3,_2]\n",
      "\n",
      " Y_[4,_3,_2,_1] Y_[4,_3,_2,_0]\n",
      "\n",
      "End\n",
      "\n",
      "====================\n",
      "X_[0, 1, 2] 0.0\n",
      "X_[0, 1, 3, 2] 0.0\n",
      "X_[1, 2] 1.0\n",
      "X_[1, 3, 2] 0.0\n",
      "Y_[4, 3] 1.0\n",
      "Y_[4, 3, 2] 0.0\n",
      "Y_[4, 3, 2, 1] 0.0\n",
      "Y_[4, 3, 2, 0] 0.0\n"
     ]
    }
   ],
   "source": [
    "m = mipSolve(graph, 4, 3)\n",
    "\n",
    "_printLP(m)\n",
    "for v in m.getVars():\n",
    "    print(v.varname, v.X)"
   ]
  },
  {
   "cell_type": "code",
   "execution_count": 725,
   "metadata": {},
   "outputs": [
    {
     "data": {
      "text/plain": [
       "([[0, 1, 2],\n",
       "  [0, 1, 3, 2],\n",
       "  [1, 2],\n",
       "  [1, 3, 2],\n",
       "  [4, 3],\n",
       "  [4, 3, 2],\n",
       "  [4, 3, 2, 1],\n",
       "  [4, 3, 2, 0]],\n",
       " [0.08100000000000003,\n",
       "  0.03240000000000002,\n",
       "  0.18000000000000005,\n",
       "  0.08100000000000003,\n",
       "  1.3,\n",
       "  1.3900000000000001,\n",
       "  1.417,\n",
       "  1.417])"
      ]
     },
     "execution_count": 725,
     "metadata": {},
     "output_type": "execute_result"
    }
   ],
   "source": [
    "graph.usingFailProb = True\n",
    "genAllCyclesAndChains(noDummy2withDummy(graph), cycleCap=4, chainCap=3)"
   ]
  },
  {
   "cell_type": "code",
   "execution_count": 712,
   "metadata": {},
   "outputs": [
    {
     "data": {
      "text/plain": [
       "0.1"
      ]
     },
     "execution_count": 712,
     "metadata": {},
     "output_type": "execute_result"
    }
   ],
   "source": [
    "g.get_edge_data(1, 0)['prob']"
   ]
  },
  {
   "cell_type": "code",
   "execution_count": 713,
   "metadata": {},
   "outputs": [
    {
     "data": {
      "text/plain": [
       "OutEdgeView([(1, 0), (2, 1)])"
      ]
     },
     "execution_count": 713,
     "metadata": {},
     "output_type": "execute_result"
    }
   ],
   "source": [
    "g.edges()"
   ]
  },
  {
   "cell_type": "code",
   "execution_count": 714,
   "metadata": {},
   "outputs": [
    {
     "data": {
      "text/plain": [
       "0.08099999999999999"
      ]
     },
     "execution_count": 714,
     "metadata": {},
     "output_type": "execute_result"
    }
   ],
   "source": [
    "3*(0.3**3)"
   ]
  },
  {
   "cell_type": "code",
   "execution_count": null,
   "metadata": {},
   "outputs": [],
   "source": []
  },
  {
   "cell_type": "code",
   "execution_count": null,
   "metadata": {},
   "outputs": [],
   "source": []
  },
  {
   "cell_type": "code",
   "execution_count": null,
   "metadata": {},
   "outputs": [],
   "source": []
  }
 ],
 "metadata": {
  "kernelspec": {
   "display_name": "Python 3",
   "language": "python",
   "name": "python3"
  },
  "language_info": {
   "codemirror_mode": {
    "name": "ipython",
    "version": 3
   },
   "file_extension": ".py",
   "mimetype": "text/x-python",
   "name": "python",
   "nbconvert_exporter": "python",
   "pygments_lexer": "ipython3",
   "version": "3.7.5"
  }
 },
 "nbformat": 4,
 "nbformat_minor": 2
}
